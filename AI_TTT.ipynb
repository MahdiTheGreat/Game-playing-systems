{
  "nbformat": 4,
  "nbformat_minor": 0,
  "metadata": {
    "colab": {
      "provenance": [],
      "include_colab_link": true
    },
    "kernelspec": {
      "name": "python3",
      "display_name": "Python 3"
    },
    "language_info": {
      "name": "python"
    }
  },
  "cells": [
    {
      "cell_type": "markdown",
      "metadata": {
        "id": "view-in-github",
        "colab_type": "text"
      },
      "source": [
        "<a href=\"https://colab.research.google.com/github/MahdiTheGreat/Game-playing-systems/blob/main/AI_TTT.ipynb\" target=\"_parent\"><img src=\"https://colab.research.google.com/assets/colab-badge.svg\" alt=\"Open In Colab\"/></a>"
      ]
    },
    {
      "cell_type": "code",
      "source": [
        "!pip install -Uqq ipdb\n",
        "import ipdb"
      ],
      "metadata": {
        "id": "UueNftv1jMz8",
        "outputId": "2d6e5dbb-8639-49ba-909c-0131a1d197e5",
        "colab": {
          "base_uri": "https://localhost:8080/"
        }
      },
      "execution_count": 12,
      "outputs": [
        {
          "output_type": "stream",
          "name": "stdout",
          "text": [
            "\u001b[?25l   \u001b[90m━━━━━━━━━━━━━━━━━━━━━━━━━━━━━━━━━━━━━━━━\u001b[0m \u001b[32m0.0/1.6 MB\u001b[0m \u001b[31m?\u001b[0m eta \u001b[36m-:--:--\u001b[0m\r\u001b[2K   \u001b[91m━━━━━━━\u001b[0m\u001b[90m╺\u001b[0m\u001b[90m━━━━━━━━━━━━━━━━━━━━━━━━━━━━━━━━\u001b[0m \u001b[32m0.3/1.6 MB\u001b[0m \u001b[31m8.4 MB/s\u001b[0m eta \u001b[36m0:00:01\u001b[0m\r\u001b[2K   \u001b[91m━━━━━━━━━━━━━━━━━━━━━━━━━━━━━━━━━━━\u001b[0m\u001b[91m╸\u001b[0m\u001b[90m━━━━\u001b[0m \u001b[32m1.4/1.6 MB\u001b[0m \u001b[31m20.8 MB/s\u001b[0m eta \u001b[36m0:00:01\u001b[0m\r\u001b[2K   \u001b[90m━━━━━━━━━━━━━━━━━━━━━━━━━━━━━━━━━━━━━━━━\u001b[0m \u001b[32m1.6/1.6 MB\u001b[0m \u001b[31m16.2 MB/s\u001b[0m eta \u001b[36m0:00:00\u001b[0m\n",
            "\u001b[?25hAutomatic pdb calling has been turned ON\n"
          ]
        }
      ]
    },
    {
      "cell_type": "code",
      "source": [
        "%pdb off"
      ],
      "metadata": {
        "id": "fZTm6wiYmOxy",
        "outputId": "b233b786-1fad-416d-bec6-ffcc430dbd02",
        "colab": {
          "base_uri": "https://localhost:8080/"
        }
      },
      "execution_count": 22,
      "outputs": [
        {
          "output_type": "stream",
          "name": "stdout",
          "text": [
            "Automatic pdb calling has been turned OFF\n"
          ]
        }
      ]
    },
    {
      "cell_type": "code",
      "execution_count": 19,
      "metadata": {
        "id": "1nypo3f3Xqp2"
      },
      "outputs": [],
      "source": [
        "\n",
        " # MCTS self-play\n",
        "\n",
        "import numpy as np\n",
        "import random\n",
        "import time\n",
        "from math import sqrt, log\n",
        "from copy import deepcopy\n",
        "\n",
        "class MCTSNode:\n",
        "    def __init__(self, state, parent=None):\n",
        "        self.state = state  # Tic-Tac-Toe board state\n",
        "        self.parent = parent\n",
        "        self.children = []\n",
        "        self.visits = 0\n",
        "        self.value = 0\n",
        "        self.untried_moves = self.get_legal_moves()\n",
        "\n",
        "    def get_legal_moves(self):\n",
        "        return [(i, j) for i in range(3) for j in range(3) if self.state[i, j] == \"\"]\n",
        "\n",
        "    def best_child(self, exploration_weight=1.41):\n",
        "        return max(self.children, key=lambda child: child.value / (child.visits + 1e-6) + exploration_weight * sqrt(log(self.visits + 1) / (child.visits + 1e-6)))\n",
        "\n",
        "    def expand(self):\n",
        "        if not self.untried_moves:\n",
        "            return self  # Return self if no moves left to expand\n",
        "        move = self.untried_moves.pop()\n",
        "        #new_state = self.state.copy()\n",
        "        new_state = deepcopy(self.state)\n",
        "        new_state[move] = \"X\" if np.count_nonzero(self.state == \"X\") <= np.count_nonzero(self.state == \"O\") else \"O\"\n",
        "        child_node = MCTSNode(new_state, parent=self)\n",
        "        self.children.append(child_node)\n",
        "        return child_node\n",
        "\n",
        "    def update(self, result):\n",
        "        self.visits += 1\n",
        "        self.value += result\n",
        "\n",
        "\n",
        "class MCTS:\n",
        "    def __init__(self, time_limit=5.0, max_iterations=1000):\n",
        "        self.time_limit = time_limit\n",
        "        self.max_iterations = max_iterations\n",
        "\n",
        "    def search(self, root):\n",
        "        start_time = time.time()\n",
        "        iterations = 0\n",
        "\n",
        "        if root.untried_moves:\n",
        "            root = root.expand()  # Ensure root expands at least once\n",
        "\n",
        "        while time.time() - start_time < self.time_limit and iterations < self.max_iterations:\n",
        "            node = self.select(root)\n",
        "            if node.untried_moves:\n",
        "                node = node.expand()\n",
        "            result = self.simulate(node.state)\n",
        "            self.backpropagate(node, result)\n",
        "            iterations += 1\n",
        "\n",
        "        #return max(root.children, key=lambda c: c.visits, default=root)  # Choose best move by visits\n",
        "        return root.best_child()  # Choose best move by value\n",
        "\n",
        "    def select(self, node):\n",
        "        while node.children and not node.untried_moves:\n",
        "            node = node.best_child()\n",
        "        return node\n",
        "\n",
        "    def simulate(self, state):\n",
        "        state=deepcopy(state)\n",
        "        current_player = \"X\" if np.count_nonzero(state == \"X\") <= np.count_nonzero(state == \"O\") else \"O\"\n",
        "        while True:\n",
        "            legal_moves = [(i, j) for i in range(3) for j in range(3) if state[i, j] == \"\"]\n",
        "            if not legal_moves:\n",
        "                return 0  # Draw\n",
        "            move = random.choice(legal_moves)\n",
        "            state[move] = current_player\n",
        "            if self.check_winner(state, current_player):\n",
        "                return 1 if current_player == \"X\" else -1\n",
        "            current_player = \"O\" if current_player == \"X\" else \"X\"\n",
        "\n",
        "    def backpropagate(self, node, result):\n",
        "        while node:\n",
        "            node.update(result)\n",
        "            result = -result  # Alternate win/loss perspective\n",
        "            node = node.parent\n",
        "\n",
        "    def check_winner(self, state, player):\n",
        "        for i in range(3):\n",
        "            if all(state[i, :] == player) or all(state[:, i] == player):\n",
        "                return True\n",
        "        if all(state.diagonal() == player) or all(np.fliplr(state).diagonal() == player):\n",
        "            return True\n",
        "        return False"
      ]
    },
    {
      "cell_type": "code",
      "source": [
        "# MCTS vs user, doesnt work yet\n",
        "\n",
        "import numpy as np\n",
        "import random\n",
        "import time\n",
        "from math import sqrt, log\n",
        "from IPython.display import clear_output\n",
        "from google.colab import output\n",
        "\n",
        "class TicTacToe:\n",
        "    def __init__(self,human_player = \"X\"):\n",
        "        self.state = np.full((3, 3), \"\")\n",
        "        self.mcts = MCTS()\n",
        "\n",
        "        if human_player == \"X\":\n",
        "            self.human_player = \"X\"\n",
        "            self.ai_player2 = \"O\"\n",
        "        elif human_player == \"O\":\n",
        "            self.human_player = \"O\"\n",
        "            self.ai_player2 = \"X\"\n",
        "        else:\n",
        "            self.ai_player = \"X\"\n",
        "            self.ai_player2= \"O\"\n",
        "            self.human_player = None\n",
        "\n",
        "        self.current_player = \"X\"\n",
        "\n",
        "    def display_board(self):\n",
        "        print(\"  0 1 2\")\n",
        "        for i in range(len(self.state)):\n",
        "            print(f\"{i} {self.state[i][0]}|{self.state[i][1]}|{self.state[i][2]}\")\n",
        "            if i < 2:\n",
        "                print(\"  -+-+-\")\n",
        "        print(\"\\n\")\n",
        "\n",
        "    def get_human_move(self):\n",
        "     while True:\n",
        "      try:\n",
        "          row = int(input(\"Enter row (0-2): \"))\n",
        "          col = int(input(\"Enter column (0-2): \"))\n",
        "          if self.state[row, col] == \"\":\n",
        "              self.state[row, col] = self.human_player\n",
        "              self.current_player = self.ai_player2  # Switch turn\n",
        "              break\n",
        "          else:\n",
        "              print(\"Invalid move, try again!\")\n",
        "      except (ValueError, IndexError):\n",
        "          print(\"Invalid input! Enter numbers between 0 and 2.\")\n",
        "\n",
        "    def get_ai_move(self):\n",
        "     # AI's turn (MCTS)\n",
        "     print(\"AI is thinking...\")\n",
        "     time.sleep(1)\n",
        "     root = MCTSNode(deepcopy(self.state))\n",
        "     best_move = self.mcts.search(root)\n",
        "     #ipdb.set_trace()\n",
        "     self.state = best_move.state\n",
        "     self.current_player = self.human_player  # Switch turn\n",
        "\n",
        "    def play_game(self):\n",
        "        while True:\n",
        "            clear_output()\n",
        "            print(\"current state: \",self.state)\n",
        "            self.display_board()\n",
        "\n",
        "            first_player=self.human_player if self.human_player else self.ai_player\n",
        "            first_player_move = self.get_human_move() if self.human_player else self.get_ai_move()\n",
        "\n",
        "            if self.current_player == first_player:\n",
        "              first_player_move()\n",
        "            else:\n",
        "              self.get_ai_move()\n",
        "\n",
        "            if self.mcts.check_winner(self.state, \"X\"):\n",
        "                self.display_board()\n",
        "                print(\"X wins!\")\n",
        "                break\n",
        "            elif self.mcts.check_winner(self.state, \"O\"):\n",
        "                self.display_board()\n",
        "                print(\"O wins!\")\n",
        "                break\n",
        "            elif \"\" not in self.state:\n",
        "                self.display_board()\n",
        "                print(\"It's a draw!\")\n",
        "                break\n",
        "\n",
        "if __name__ == \"__main__\":\n",
        "    game = TicTacToe()\n",
        "    game.play_game()\n"
      ],
      "metadata": {
        "colab": {
          "base_uri": "https://localhost:8080/",
          "height": 651
        },
        "id": "RdpGAEYlqN0N",
        "outputId": "ae811c6c-e60e-40a7-ff5a-52dd29e0d03f"
      },
      "execution_count": 21,
      "outputs": [
        {
          "output_type": "stream",
          "name": "stdout",
          "text": [
            "current state:  [['X' '' 'X']\n",
            " ['' 'X' 'O']\n",
            " ['' 'O' 'O']]\n",
            "  0 1 2\n",
            "0 X||X\n",
            "  -+-+-\n",
            "1 |X|O\n",
            "  -+-+-\n",
            "2 |O|O\n",
            "\n",
            "\n"
          ]
        },
        {
          "output_type": "error",
          "ename": "KeyboardInterrupt",
          "evalue": "Interrupted by user",
          "traceback": [
            "\u001b[0;31m---------------------------------------------------------------------------\u001b[0m",
            "\u001b[0;31mKeyboardInterrupt\u001b[0m                         Traceback (most recent call last)",
            "\u001b[0;32m<ipython-input-21-19b0f7d01138>\u001b[0m in \u001b[0;36m<cell line: 0>\u001b[0;34m()\u001b[0m\n\u001b[1;32m     87\u001b[0m \u001b[0;32mif\u001b[0m \u001b[0m__name__\u001b[0m \u001b[0;34m==\u001b[0m \u001b[0;34m\"__main__\"\u001b[0m\u001b[0;34m:\u001b[0m\u001b[0;34m\u001b[0m\u001b[0;34m\u001b[0m\u001b[0m\n\u001b[1;32m     88\u001b[0m     \u001b[0mgame\u001b[0m \u001b[0;34m=\u001b[0m \u001b[0mTicTacToe\u001b[0m\u001b[0;34m(\u001b[0m\u001b[0;34m)\u001b[0m\u001b[0;34m\u001b[0m\u001b[0;34m\u001b[0m\u001b[0m\n\u001b[0;32m---> 89\u001b[0;31m     \u001b[0mgame\u001b[0m\u001b[0;34m.\u001b[0m\u001b[0mplay_game\u001b[0m\u001b[0;34m(\u001b[0m\u001b[0;34m)\u001b[0m\u001b[0;34m\u001b[0m\u001b[0;34m\u001b[0m\u001b[0m\n\u001b[0m",
            "\u001b[0;32m<ipython-input-21-19b0f7d01138>\u001b[0m in \u001b[0;36mplay_game\u001b[0;34m(self)\u001b[0m\n\u001b[1;32m     65\u001b[0m \u001b[0;34m\u001b[0m\u001b[0m\n\u001b[1;32m     66\u001b[0m             \u001b[0mfirst_player\u001b[0m\u001b[0;34m=\u001b[0m\u001b[0mself\u001b[0m\u001b[0;34m.\u001b[0m\u001b[0mhuman_player\u001b[0m \u001b[0;32mif\u001b[0m \u001b[0mself\u001b[0m\u001b[0;34m.\u001b[0m\u001b[0mhuman_player\u001b[0m \u001b[0;32melse\u001b[0m \u001b[0mself\u001b[0m\u001b[0;34m.\u001b[0m\u001b[0mai_player\u001b[0m\u001b[0;34m\u001b[0m\u001b[0;34m\u001b[0m\u001b[0m\n\u001b[0;32m---> 67\u001b[0;31m             \u001b[0mfirst_player_move\u001b[0m \u001b[0;34m=\u001b[0m \u001b[0mself\u001b[0m\u001b[0;34m.\u001b[0m\u001b[0mget_human_move\u001b[0m\u001b[0;34m(\u001b[0m\u001b[0;34m)\u001b[0m \u001b[0;32mif\u001b[0m \u001b[0mself\u001b[0m\u001b[0;34m.\u001b[0m\u001b[0mhuman_player\u001b[0m \u001b[0;32melse\u001b[0m \u001b[0mself\u001b[0m\u001b[0;34m.\u001b[0m\u001b[0mget_ai_move\u001b[0m\u001b[0;34m(\u001b[0m\u001b[0;34m)\u001b[0m\u001b[0;34m\u001b[0m\u001b[0;34m\u001b[0m\u001b[0m\n\u001b[0m\u001b[1;32m     68\u001b[0m \u001b[0;34m\u001b[0m\u001b[0m\n\u001b[1;32m     69\u001b[0m             \u001b[0;32mif\u001b[0m \u001b[0mself\u001b[0m\u001b[0;34m.\u001b[0m\u001b[0mcurrent_player\u001b[0m \u001b[0;34m==\u001b[0m \u001b[0mfirst_player\u001b[0m\u001b[0;34m:\u001b[0m\u001b[0;34m\u001b[0m\u001b[0;34m\u001b[0m\u001b[0m\n",
            "\u001b[0;32m<ipython-input-21-19b0f7d01138>\u001b[0m in \u001b[0;36mget_human_move\u001b[0;34m(self)\u001b[0m\n\u001b[1;32m     37\u001b[0m      \u001b[0;32mwhile\u001b[0m \u001b[0;32mTrue\u001b[0m\u001b[0;34m:\u001b[0m\u001b[0;34m\u001b[0m\u001b[0;34m\u001b[0m\u001b[0m\n\u001b[1;32m     38\u001b[0m       \u001b[0;32mtry\u001b[0m\u001b[0;34m:\u001b[0m\u001b[0;34m\u001b[0m\u001b[0;34m\u001b[0m\u001b[0m\n\u001b[0;32m---> 39\u001b[0;31m           \u001b[0mrow\u001b[0m \u001b[0;34m=\u001b[0m \u001b[0mint\u001b[0m\u001b[0;34m(\u001b[0m\u001b[0minput\u001b[0m\u001b[0;34m(\u001b[0m\u001b[0;34m\"Enter row (0-2): \"\u001b[0m\u001b[0;34m)\u001b[0m\u001b[0;34m)\u001b[0m\u001b[0;34m\u001b[0m\u001b[0;34m\u001b[0m\u001b[0m\n\u001b[0m\u001b[1;32m     40\u001b[0m           \u001b[0mcol\u001b[0m \u001b[0;34m=\u001b[0m \u001b[0mint\u001b[0m\u001b[0;34m(\u001b[0m\u001b[0minput\u001b[0m\u001b[0;34m(\u001b[0m\u001b[0;34m\"Enter column (0-2): \"\u001b[0m\u001b[0;34m)\u001b[0m\u001b[0;34m)\u001b[0m\u001b[0;34m\u001b[0m\u001b[0;34m\u001b[0m\u001b[0m\n\u001b[1;32m     41\u001b[0m           \u001b[0;32mif\u001b[0m \u001b[0mself\u001b[0m\u001b[0;34m.\u001b[0m\u001b[0mstate\u001b[0m\u001b[0;34m[\u001b[0m\u001b[0mrow\u001b[0m\u001b[0;34m,\u001b[0m \u001b[0mcol\u001b[0m\u001b[0;34m]\u001b[0m \u001b[0;34m==\u001b[0m \u001b[0;34m\"\"\u001b[0m\u001b[0;34m:\u001b[0m\u001b[0;34m\u001b[0m\u001b[0;34m\u001b[0m\u001b[0m\n",
            "\u001b[0;32m/usr/local/lib/python3.11/dist-packages/ipykernel/kernelbase.py\u001b[0m in \u001b[0;36mraw_input\u001b[0;34m(self, prompt)\u001b[0m\n\u001b[1;32m   1175\u001b[0m                 \u001b[0;34m\"raw_input was called, but this frontend does not support input requests.\"\u001b[0m\u001b[0;34m\u001b[0m\u001b[0;34m\u001b[0m\u001b[0m\n\u001b[1;32m   1176\u001b[0m             )\n\u001b[0;32m-> 1177\u001b[0;31m         return self._input_request(\n\u001b[0m\u001b[1;32m   1178\u001b[0m             \u001b[0mstr\u001b[0m\u001b[0;34m(\u001b[0m\u001b[0mprompt\u001b[0m\u001b[0;34m)\u001b[0m\u001b[0;34m,\u001b[0m\u001b[0;34m\u001b[0m\u001b[0;34m\u001b[0m\u001b[0m\n\u001b[1;32m   1179\u001b[0m             \u001b[0mself\u001b[0m\u001b[0;34m.\u001b[0m\u001b[0m_parent_ident\u001b[0m\u001b[0;34m[\u001b[0m\u001b[0;34m\"shell\"\u001b[0m\u001b[0;34m]\u001b[0m\u001b[0;34m,\u001b[0m\u001b[0;34m\u001b[0m\u001b[0;34m\u001b[0m\u001b[0m\n",
            "\u001b[0;32m/usr/local/lib/python3.11/dist-packages/ipykernel/kernelbase.py\u001b[0m in \u001b[0;36m_input_request\u001b[0;34m(self, prompt, ident, parent, password)\u001b[0m\n\u001b[1;32m   1217\u001b[0m             \u001b[0;32mexcept\u001b[0m \u001b[0mKeyboardInterrupt\u001b[0m\u001b[0;34m:\u001b[0m\u001b[0;34m\u001b[0m\u001b[0;34m\u001b[0m\u001b[0m\n\u001b[1;32m   1218\u001b[0m                 \u001b[0;31m# re-raise KeyboardInterrupt, to truncate traceback\u001b[0m\u001b[0;34m\u001b[0m\u001b[0;34m\u001b[0m\u001b[0m\n\u001b[0;32m-> 1219\u001b[0;31m                 \u001b[0;32mraise\u001b[0m \u001b[0mKeyboardInterrupt\u001b[0m\u001b[0;34m(\u001b[0m\u001b[0;34m\"Interrupted by user\"\u001b[0m\u001b[0;34m)\u001b[0m \u001b[0;32mfrom\u001b[0m \u001b[0;32mNone\u001b[0m\u001b[0;34m\u001b[0m\u001b[0;34m\u001b[0m\u001b[0m\n\u001b[0m\u001b[1;32m   1220\u001b[0m             \u001b[0;32mexcept\u001b[0m \u001b[0mException\u001b[0m\u001b[0;34m:\u001b[0m\u001b[0;34m\u001b[0m\u001b[0;34m\u001b[0m\u001b[0m\n\u001b[1;32m   1221\u001b[0m                 \u001b[0mself\u001b[0m\u001b[0;34m.\u001b[0m\u001b[0mlog\u001b[0m\u001b[0;34m.\u001b[0m\u001b[0mwarning\u001b[0m\u001b[0;34m(\u001b[0m\u001b[0;34m\"Invalid Message:\"\u001b[0m\u001b[0;34m,\u001b[0m \u001b[0mexc_info\u001b[0m\u001b[0;34m=\u001b[0m\u001b[0;32mTrue\u001b[0m\u001b[0;34m)\u001b[0m\u001b[0;34m\u001b[0m\u001b[0;34m\u001b[0m\u001b[0m\n",
            "\u001b[0;31mKeyboardInterrupt\u001b[0m: Interrupted by user"
          ]
        },
        {
          "name": "stdout",
          "output_type": "stream",
          "text": [
            "> \u001b[0;32m/usr/local/lib/python3.11/dist-packages/ipykernel/kernelbase.py\u001b[0m(1219)\u001b[0;36m_input_request\u001b[0;34m()\u001b[0m\n",
            "\u001b[0;32m   1217 \u001b[0;31m            \u001b[0;32mexcept\u001b[0m \u001b[0mKeyboardInterrupt\u001b[0m\u001b[0;34m:\u001b[0m\u001b[0;34m\u001b[0m\u001b[0;34m\u001b[0m\u001b[0m\n",
            "\u001b[0m\u001b[0;32m   1218 \u001b[0;31m                \u001b[0;31m# re-raise KeyboardInterrupt, to truncate traceback\u001b[0m\u001b[0;34m\u001b[0m\u001b[0;34m\u001b[0m\u001b[0m\n",
            "\u001b[0m\u001b[0;32m-> 1219 \u001b[0;31m                \u001b[0;32mraise\u001b[0m \u001b[0mKeyboardInterrupt\u001b[0m\u001b[0;34m(\u001b[0m\u001b[0;34m\"Interrupted by user\"\u001b[0m\u001b[0;34m)\u001b[0m \u001b[0;32mfrom\u001b[0m \u001b[0;32mNone\u001b[0m\u001b[0;34m\u001b[0m\u001b[0;34m\u001b[0m\u001b[0m\n",
            "\u001b[0m\u001b[0;32m   1220 \u001b[0;31m            \u001b[0;32mexcept\u001b[0m \u001b[0mException\u001b[0m\u001b[0;34m:\u001b[0m\u001b[0;34m\u001b[0m\u001b[0;34m\u001b[0m\u001b[0m\n",
            "\u001b[0m\u001b[0;32m   1221 \u001b[0;31m                \u001b[0mself\u001b[0m\u001b[0;34m.\u001b[0m\u001b[0mlog\u001b[0m\u001b[0;34m.\u001b[0m\u001b[0mwarning\u001b[0m\u001b[0;34m(\u001b[0m\u001b[0;34m\"Invalid Message:\"\u001b[0m\u001b[0;34m,\u001b[0m \u001b[0mexc_info\u001b[0m\u001b[0;34m=\u001b[0m\u001b[0;32mTrue\u001b[0m\u001b[0;34m)\u001b[0m\u001b[0;34m\u001b[0m\u001b[0;34m\u001b[0m\u001b[0m\n",
            "\u001b[0m\n",
            "ipdb> exit\n"
          ]
        }
      ]
    }
  ]
}